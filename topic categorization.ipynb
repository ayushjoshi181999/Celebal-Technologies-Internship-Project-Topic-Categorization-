{
 "cells": [
  {
   "cell_type": "markdown",
   "id": "bulgarian-antigua",
   "metadata": {},
   "source": [
    "# Importing Libraries"
   ]
  },
  {
   "cell_type": "code",
   "execution_count": 1,
   "id": "departmental-research",
   "metadata": {},
   "outputs": [],
   "source": [
    "import pandas as pd\n",
    "import numpy as np\n",
    "import pickle\n",
    "import tensorflow as tf\n",
    "from tensorflow.keras.preprocessing.text import Tokenizer\n",
    "from tensorflow.keras.models import Sequential\n",
    "from tensorflow.keras.layers import Activation, Dense, Dropout\n",
    "from sklearn.preprocessing import LabelBinarizer\n",
    "import sklearn.datasets as skds\n",
    "from pathlib import Path"
   ]
  },
  {
   "cell_type": "markdown",
   "id": "romantic-crowd",
   "metadata": {},
   "source": [
    "# Reading Train Dataset Files"
   ]
  },
  {
   "cell_type": "code",
   "execution_count": 2,
   "id": "informed-pontiac",
   "metadata": {},
   "outputs": [],
   "source": [
    "# For reproducibility\n",
    "np.random.seed(1237)\n",
    " \n",
    "# Source file directory\n",
    "path_train = \"C://Users//hp-pc//Documents//Celebal Work//20news-bydate-train\"\n",
    " \n",
    "files_train = skds.load_files(path_train,load_content=False)\n",
    " \n",
    "label_index = files_train.target\n",
    "label_names = files_train.target_names\n",
    "labelled_files = files_train.filenames\n",
    " \n",
    "data_tags = [\"filename\",\"category\",\"news\"]\n",
    "data_list = []\n",
    " \n",
    "# Read and add data from file to a list\n",
    "i=0\n",
    "for f in labelled_files:\n",
    "    data_list.append((f,label_names[label_index[i]],Path(f).read_text(encoding='latin1')))\n",
    "    i += 1\n",
    " \n",
    "# We have training data available as dictionary filename, category, data\n",
    "data = pd.DataFrame.from_records(data_list, columns=data_tags)"
   ]
  },
  {
   "cell_type": "code",
   "execution_count": 3,
   "id": "e3eb04ec",
   "metadata": {},
   "outputs": [
    {
     "data": {
      "text/html": [
       "<div>\n",
       "<style scoped>\n",
       "    .dataframe tbody tr th:only-of-type {\n",
       "        vertical-align: middle;\n",
       "    }\n",
       "\n",
       "    .dataframe tbody tr th {\n",
       "        vertical-align: top;\n",
       "    }\n",
       "\n",
       "    .dataframe thead th {\n",
       "        text-align: right;\n",
       "    }\n",
       "</style>\n",
       "<table border=\"1\" class=\"dataframe\">\n",
       "  <thead>\n",
       "    <tr style=\"text-align: right;\">\n",
       "      <th></th>\n",
       "      <th>filename</th>\n",
       "      <th>category</th>\n",
       "      <th>news</th>\n",
       "    </tr>\n",
       "  </thead>\n",
       "  <tbody>\n",
       "    <tr>\n",
       "      <th>0</th>\n",
       "      <td>C://Users//hp-pc//Documents//Celebal Work//20n...</td>\n",
       "      <td>rec.sport.baseball</td>\n",
       "      <td>From: cubbie@garnet.berkeley.edu (            ...</td>\n",
       "    </tr>\n",
       "    <tr>\n",
       "      <th>1</th>\n",
       "      <td>C://Users//hp-pc//Documents//Celebal Work//20n...</td>\n",
       "      <td>comp.sys.mac.hardware</td>\n",
       "      <td>From: gnelson@pion.rutgers.edu (Gregory Nelson...</td>\n",
       "    </tr>\n",
       "    <tr>\n",
       "      <th>2</th>\n",
       "      <td>C://Users//hp-pc//Documents//Celebal Work//20n...</td>\n",
       "      <td>sci.crypt</td>\n",
       "      <td>From: crypt-comments@math.ncsu.edu\\nSubject: C...</td>\n",
       "    </tr>\n",
       "    <tr>\n",
       "      <th>3</th>\n",
       "      <td>C://Users//hp-pc//Documents//Celebal Work//20n...</td>\n",
       "      <td>comp.sys.mac.hardware</td>\n",
       "      <td>From:  ()\\nSubject: Re: Quadra SCSI Problems??...</td>\n",
       "    </tr>\n",
       "    <tr>\n",
       "      <th>4</th>\n",
       "      <td>C://Users//hp-pc//Documents//Celebal Work//20n...</td>\n",
       "      <td>alt.atheism</td>\n",
       "      <td>From: keith@cco.caltech.edu (Keith Allan Schne...</td>\n",
       "    </tr>\n",
       "    <tr>\n",
       "      <th>...</th>\n",
       "      <td>...</td>\n",
       "      <td>...</td>\n",
       "      <td>...</td>\n",
       "    </tr>\n",
       "    <tr>\n",
       "      <th>11309</th>\n",
       "      <td>C://Users//hp-pc//Documents//Celebal Work//20n...</td>\n",
       "      <td>rec.motorcycles</td>\n",
       "      <td>From: rbemben@timewarp.prime.com (Rich Bemben)...</td>\n",
       "    </tr>\n",
       "    <tr>\n",
       "      <th>11310</th>\n",
       "      <td>C://Users//hp-pc//Documents//Celebal Work//20n...</td>\n",
       "      <td>comp.windows.x</td>\n",
       "      <td>From: stevedav@netcom.com (Steve Davidson)\\nSu...</td>\n",
       "    </tr>\n",
       "    <tr>\n",
       "      <th>11311</th>\n",
       "      <td>C://Users//hp-pc//Documents//Celebal Work//20n...</td>\n",
       "      <td>talk.politics.guns</td>\n",
       "      <td>From: 0005111312@mcimail.com (Peter Nesbitt)\\n...</td>\n",
       "    </tr>\n",
       "    <tr>\n",
       "      <th>11312</th>\n",
       "      <td>C://Users//hp-pc//Documents//Celebal Work//20n...</td>\n",
       "      <td>talk.politics.misc</td>\n",
       "      <td>From: eck@panix.com (Mark Eckenwiler)\\nSubject...</td>\n",
       "    </tr>\n",
       "    <tr>\n",
       "      <th>11313</th>\n",
       "      <td>C://Users//hp-pc//Documents//Celebal Work//20n...</td>\n",
       "      <td>comp.sys.mac.hardware</td>\n",
       "      <td>From: lau@aerospace.aero.org (David Lau)\\nSubj...</td>\n",
       "    </tr>\n",
       "  </tbody>\n",
       "</table>\n",
       "<p>11314 rows × 3 columns</p>\n",
       "</div>"
      ],
      "text/plain": [
       "                                                filename  \\\n",
       "0      C://Users//hp-pc//Documents//Celebal Work//20n...   \n",
       "1      C://Users//hp-pc//Documents//Celebal Work//20n...   \n",
       "2      C://Users//hp-pc//Documents//Celebal Work//20n...   \n",
       "3      C://Users//hp-pc//Documents//Celebal Work//20n...   \n",
       "4      C://Users//hp-pc//Documents//Celebal Work//20n...   \n",
       "...                                                  ...   \n",
       "11309  C://Users//hp-pc//Documents//Celebal Work//20n...   \n",
       "11310  C://Users//hp-pc//Documents//Celebal Work//20n...   \n",
       "11311  C://Users//hp-pc//Documents//Celebal Work//20n...   \n",
       "11312  C://Users//hp-pc//Documents//Celebal Work//20n...   \n",
       "11313  C://Users//hp-pc//Documents//Celebal Work//20n...   \n",
       "\n",
       "                    category  \\\n",
       "0         rec.sport.baseball   \n",
       "1      comp.sys.mac.hardware   \n",
       "2                  sci.crypt   \n",
       "3      comp.sys.mac.hardware   \n",
       "4                alt.atheism   \n",
       "...                      ...   \n",
       "11309        rec.motorcycles   \n",
       "11310         comp.windows.x   \n",
       "11311     talk.politics.guns   \n",
       "11312     talk.politics.misc   \n",
       "11313  comp.sys.mac.hardware   \n",
       "\n",
       "                                                    news  \n",
       "0      From: cubbie@garnet.berkeley.edu (            ...  \n",
       "1      From: gnelson@pion.rutgers.edu (Gregory Nelson...  \n",
       "2      From: crypt-comments@math.ncsu.edu\\nSubject: C...  \n",
       "3      From:  ()\\nSubject: Re: Quadra SCSI Problems??...  \n",
       "4      From: keith@cco.caltech.edu (Keith Allan Schne...  \n",
       "...                                                  ...  \n",
       "11309  From: rbemben@timewarp.prime.com (Rich Bemben)...  \n",
       "11310  From: stevedav@netcom.com (Steve Davidson)\\nSu...  \n",
       "11311  From: 0005111312@mcimail.com (Peter Nesbitt)\\n...  \n",
       "11312  From: eck@panix.com (Mark Eckenwiler)\\nSubject...  \n",
       "11313  From: lau@aerospace.aero.org (David Lau)\\nSubj...  \n",
       "\n",
       "[11314 rows x 3 columns]"
      ]
     },
     "execution_count": 3,
     "metadata": {},
     "output_type": "execute_result"
    }
   ],
   "source": [
    "data"
   ]
  },
  {
   "cell_type": "markdown",
   "id": "needed-birth",
   "metadata": {},
   "source": [
    "# Splitting 80% Train Data as training data and 20% for validation"
   ]
  },
  {
   "cell_type": "code",
   "execution_count": 4,
   "id": "legitimate-vacation",
   "metadata": {},
   "outputs": [],
   "source": [
    "# lets take 80% data as training and remaining 20% for validation\n",
    "train_size = int(len(data) * .8)\n",
    " \n",
    "train_posts = data['news'][:train_size]\n",
    "train_tags = data['category'][:train_size]\n",
    "train_files_names = data['filename'][:train_size]\n",
    " \n",
    "validation_test_posts = data['news'][train_size:]\n",
    "validation_test_tags = data['category'][train_size:]\n",
    "validation_test_files_names = data['filename'][train_size:]"
   ]
  },
  {
   "cell_type": "markdown",
   "id": "unusual-adams",
   "metadata": {},
   "source": [
    "# Tokenizing and Applying TF-IDF"
   ]
  },
  {
   "cell_type": "code",
   "execution_count": 5,
   "id": "removed-cosmetic",
   "metadata": {},
   "outputs": [],
   "source": [
    "# 20 news groups\n",
    "num_labels = 20\n",
    "vocab_size = 15000\n",
    "batch_size = 100\n",
    " \n",
    "# define Tokenizer with Vocab Size\n",
    "tokenizer = Tokenizer(num_words=vocab_size)\n",
    "tokenizer.fit_on_texts(train_posts)\n",
    " \n",
    "x_train = tokenizer.texts_to_matrix(train_posts, mode='tfidf')\n",
    "validation_x_test = tokenizer.texts_to_matrix(validation_test_posts, mode='tfidf')\n",
    " \n",
    "encoder = LabelBinarizer()\n",
    "encoder.fit(train_tags)\n",
    "y_train = encoder.transform(train_tags)\n",
    "validation_y_test = encoder.transform(validation_test_tags)"
   ]
  },
  {
   "cell_type": "code",
   "execution_count": 6,
   "id": "eb3d4092",
   "metadata": {},
   "outputs": [
    {
     "data": {
      "text/plain": [
       "0       From: cubbie@garnet.berkeley.edu (            ...\n",
       "1       From: gnelson@pion.rutgers.edu (Gregory Nelson...\n",
       "2       From: crypt-comments@math.ncsu.edu\\nSubject: C...\n",
       "3       From:  ()\\nSubject: Re: Quadra SCSI Problems??...\n",
       "4       From: keith@cco.caltech.edu (Keith Allan Schne...\n",
       "                              ...                        \n",
       "9046    From: awesley@vela.acs.oakland.edu (awesley)\\n...\n",
       "9047    From: geb@cs.pitt.edu (Gordon Banks)\\nSubject:...\n",
       "9048    From: inoue@crd.yokogawa.co.jp (Inoue Takeshi)...\n",
       "9049    From: rvloon@cv.ruu.NL (Ronald van Loon)\\nSubj...\n",
       "9050    From: bmdelane@midway.uchicago.edu (brian mann...\n",
       "Name: news, Length: 9051, dtype: object"
      ]
     },
     "execution_count": 6,
     "metadata": {},
     "output_type": "execute_result"
    }
   ],
   "source": [
    "train_posts"
   ]
  },
  {
   "cell_type": "code",
   "execution_count": 7,
   "id": "0bee1de6",
   "metadata": {},
   "outputs": [
    {
     "data": {
      "text/plain": [
       "array([[0.        , 1.89863301, 1.2686438 , ..., 0.        , 0.        ,\n",
       "        0.        ],\n",
       "       [0.        , 2.59386534, 1.95520345, ..., 0.        , 0.        ,\n",
       "        0.        ],\n",
       "       [0.        , 3.66933568, 2.82673079, ..., 0.        , 0.        ,\n",
       "        0.        ],\n",
       "       ...,\n",
       "       [0.        , 2.90730397, 2.99392812, ..., 0.        , 0.        ,\n",
       "        0.        ],\n",
       "       [0.        , 3.51333056, 2.95549501, ..., 0.        , 0.        ,\n",
       "        0.        ],\n",
       "       [0.        , 2.14345099, 0.74928146, ..., 0.        , 0.        ,\n",
       "        0.        ]])"
      ]
     },
     "execution_count": 7,
     "metadata": {},
     "output_type": "execute_result"
    }
   ],
   "source": [
    "x_train"
   ]
  },
  {
   "cell_type": "markdown",
   "id": "controlled-struggle",
   "metadata": {},
   "source": [
    "# Model Building"
   ]
  },
  {
   "cell_type": "code",
   "execution_count": 8,
   "id": "opening-tourist",
   "metadata": {},
   "outputs": [
    {
     "name": "stdout",
     "output_type": "stream",
     "text": [
      "Model: \"sequential\"\n",
      "_________________________________________________________________\n",
      "Layer (type)                 Output Shape              Param #   \n",
      "=================================================================\n",
      "dense (Dense)                (None, 512)               7680512   \n",
      "_________________________________________________________________\n",
      "activation (Activation)      (None, 512)               0         \n",
      "_________________________________________________________________\n",
      "dropout (Dropout)            (None, 512)               0         \n",
      "_________________________________________________________________\n",
      "dense_1 (Dense)              (None, 512)               262656    \n",
      "_________________________________________________________________\n",
      "activation_1 (Activation)    (None, 512)               0         \n",
      "_________________________________________________________________\n",
      "dropout_1 (Dropout)          (None, 512)               0         \n",
      "_________________________________________________________________\n",
      "dense_2 (Dense)              (None, 20)                10260     \n",
      "_________________________________________________________________\n",
      "activation_2 (Activation)    (None, 20)                0         \n",
      "=================================================================\n",
      "Total params: 7,953,428\n",
      "Trainable params: 7,953,428\n",
      "Non-trainable params: 0\n",
      "_________________________________________________________________\n",
      "Epoch 1/10\n",
      "91/91 [==============================] - 13s 142ms/step - loss: 1.1398 - accuracy: 0.7046 - val_loss: 0.4367 - val_accuracy: 0.8900\n",
      "Epoch 2/10\n",
      "91/91 [==============================] - 12s 133ms/step - loss: 0.1977 - accuracy: 0.9708 - val_loss: 0.3643 - val_accuracy: 0.9112\n",
      "Epoch 3/10\n",
      "91/91 [==============================] - 12s 136ms/step - loss: 0.1000 - accuracy: 0.9919 - val_loss: 0.6127 - val_accuracy: 0.9050\n",
      "Epoch 4/10\n",
      "91/91 [==============================] - 12s 136ms/step - loss: 0.0379 - accuracy: 0.9961 - val_loss: 0.4068 - val_accuracy: 0.9050\n",
      "Epoch 5/10\n",
      "91/91 [==============================] - 12s 135ms/step - loss: 0.0523 - accuracy: 0.9955 - val_loss: 0.6415 - val_accuracy: 0.9072\n",
      "Epoch 6/10\n",
      "91/91 [==============================] - 12s 132ms/step - loss: 0.0914 - accuracy: 0.9950 - val_loss: 0.4104 - val_accuracy: 0.9076\n",
      "Epoch 7/10\n",
      "91/91 [==============================] - 12s 132ms/step - loss: 0.0542 - accuracy: 0.9959 - val_loss: 0.4681 - val_accuracy: 0.9059\n",
      "Epoch 8/10\n",
      "91/91 [==============================] - 12s 136ms/step - loss: 0.0317 - accuracy: 0.9957 - val_loss: 0.5148 - val_accuracy: 0.9010\n",
      "Epoch 9/10\n",
      "91/91 [==============================] - 13s 139ms/step - loss: 0.0313 - accuracy: 0.9961 - val_loss: 0.4922 - val_accuracy: 0.9081\n",
      "Epoch 10/10\n",
      "91/91 [==============================] - 13s 140ms/step - loss: 0.0288 - accuracy: 0.9973 - val_loss: 0.4758 - val_accuracy: 0.9099\n"
     ]
    }
   ],
   "source": [
    "model = Sequential()\n",
    "model.add(Dense(512, input_shape=(vocab_size,)))\n",
    "model.add(Activation('relu'))\n",
    "model.add(Dropout(0.3))\n",
    "model.add(Dense(512))\n",
    "model.add(Activation('relu'))\n",
    "model.add(Dropout(0.3))\n",
    "model.add(Dense(num_labels))\n",
    "model.add(Activation('softmax'))\n",
    "model.summary()\n",
    "\n",
    "model.compile(loss='categorical_crossentropy',\n",
    "              optimizer='adam',\n",
    "              metrics=['accuracy'])\n",
    "\n",
    "history = model.fit(x_train, y_train,\n",
    "                    batch_size=batch_size,\n",
    "                    epochs=10,\n",
    "                    verbose=1,\n",
    "                    validation_data=(validation_x_test, validation_y_test))"
   ]
  },
  {
   "cell_type": "markdown",
   "id": "introductory-nancy",
   "metadata": {},
   "source": [
    "# Training Accuracy = 99.73% , Validation Accuracy = 91.0%"
   ]
  },
  {
   "cell_type": "code",
   "execution_count": 9,
   "id": "hundred-hands",
   "metadata": {
    "scrolled": true
   },
   "outputs": [
    {
     "data": {
      "text/plain": [
       "array(['alt.atheism', 'comp.graphics', 'comp.os.ms-windows.misc',\n",
       "       'comp.sys.ibm.pc.hardware', 'comp.sys.mac.hardware',\n",
       "       'comp.windows.x', 'misc.forsale', 'rec.autos', 'rec.motorcycles',\n",
       "       'rec.sport.baseball', 'rec.sport.hockey', 'sci.crypt',\n",
       "       'sci.electronics', 'sci.med', 'sci.space',\n",
       "       'soc.religion.christian', 'talk.politics.guns',\n",
       "       'talk.politics.mideast', 'talk.politics.misc',\n",
       "       'talk.religion.misc'], dtype='<U24')"
      ]
     },
     "execution_count": 9,
     "metadata": {},
     "output_type": "execute_result"
    }
   ],
   "source": [
    "encoder.classes_ "
   ]
  },
  {
   "cell_type": "markdown",
   "id": "competent-stewart",
   "metadata": {},
   "source": [
    "# Reading Test Dataset Files"
   ]
  },
  {
   "cell_type": "code",
   "execution_count": 10,
   "id": "single-middle",
   "metadata": {},
   "outputs": [],
   "source": [
    "# Source file directory\n",
    "path_test = \"C://Users//hp-pc//Documents//Celebal Work//20news-bydate-test\"\n",
    " \n",
    "files_test = skds.load_files(path_test,load_content=False)\n",
    " \n",
    "label_index = files_test.target\n",
    "label_names = files_test.target_names\n",
    "labelled_files = files_test.filenames\n",
    " \n",
    "data_tags = [\"filename\",\"category\",\"news\"]\n",
    "data_list = []\n",
    " \n",
    "# Read and add data from file to a list\n",
    "i=0\n",
    "for f in labelled_files:\n",
    "    data_list.append((f,label_names[label_index[i]],Path(f).read_text(encoding='latin1')))\n",
    "    i += 1\n",
    "    \n",
    "# We have testing data available as dictionary filename, category, data\n",
    "data = pd.DataFrame.from_records(data_list, columns=data_tags)"
   ]
  },
  {
   "cell_type": "code",
   "execution_count": 11,
   "id": "c5ec3e54",
   "metadata": {},
   "outputs": [
    {
     "data": {
      "text/html": [
       "<div>\n",
       "<style scoped>\n",
       "    .dataframe tbody tr th:only-of-type {\n",
       "        vertical-align: middle;\n",
       "    }\n",
       "\n",
       "    .dataframe tbody tr th {\n",
       "        vertical-align: top;\n",
       "    }\n",
       "\n",
       "    .dataframe thead th {\n",
       "        text-align: right;\n",
       "    }\n",
       "</style>\n",
       "<table border=\"1\" class=\"dataframe\">\n",
       "  <thead>\n",
       "    <tr style=\"text-align: right;\">\n",
       "      <th></th>\n",
       "      <th>filename</th>\n",
       "      <th>category</th>\n",
       "      <th>news</th>\n",
       "    </tr>\n",
       "  </thead>\n",
       "  <tbody>\n",
       "    <tr>\n",
       "      <th>0</th>\n",
       "      <td>C://Users//hp-pc//Documents//Celebal Work//20n...</td>\n",
       "      <td>rec.sport.hockey</td>\n",
       "      <td>From: stimpy@dev-null.phys.psu.edu (Gregory Na...</td>\n",
       "    </tr>\n",
       "    <tr>\n",
       "      <th>1</th>\n",
       "      <td>C://Users//hp-pc//Documents//Celebal Work//20n...</td>\n",
       "      <td>talk.politics.guns</td>\n",
       "      <td>From: kennejs@a.cs.okstate.edu (KENNEDY JAMES ...</td>\n",
       "    </tr>\n",
       "    <tr>\n",
       "      <th>2</th>\n",
       "      <td>C://Users//hp-pc//Documents//Celebal Work//20n...</td>\n",
       "      <td>sci.space</td>\n",
       "      <td>From: perky@acs.bu.edu (Melissa Sherrin)\\nSubj...</td>\n",
       "    </tr>\n",
       "    <tr>\n",
       "      <th>3</th>\n",
       "      <td>C://Users//hp-pc//Documents//Celebal Work//20n...</td>\n",
       "      <td>talk.politics.misc</td>\n",
       "      <td>From: evansmp@uhura.aston.ac.uk (Mark Evans)\\n...</td>\n",
       "    </tr>\n",
       "    <tr>\n",
       "      <th>4</th>\n",
       "      <td>C://Users//hp-pc//Documents//Celebal Work//20n...</td>\n",
       "      <td>comp.windows.x</td>\n",
       "      <td>From: sxs@extol.Convergent.Com (S. Sridhar)\\nS...</td>\n",
       "    </tr>\n",
       "    <tr>\n",
       "      <th>...</th>\n",
       "      <td>...</td>\n",
       "      <td>...</td>\n",
       "      <td>...</td>\n",
       "    </tr>\n",
       "    <tr>\n",
       "      <th>7527</th>\n",
       "      <td>C://Users//hp-pc//Documents//Celebal Work//20n...</td>\n",
       "      <td>sci.electronics</td>\n",
       "      <td>From: fennell@well.sf.ca.us (Michael Daniel Fe...</td>\n",
       "    </tr>\n",
       "    <tr>\n",
       "      <th>7528</th>\n",
       "      <td>C://Users//hp-pc//Documents//Celebal Work//20n...</td>\n",
       "      <td>rec.motorcycles</td>\n",
       "      <td>From: tony@morgan.demon.co.uk (Tony Kidson)\\nS...</td>\n",
       "    </tr>\n",
       "    <tr>\n",
       "      <th>7529</th>\n",
       "      <td>C://Users//hp-pc//Documents//Celebal Work//20n...</td>\n",
       "      <td>comp.sys.mac.hardware</td>\n",
       "      <td>From: sadams@eis.calstate.edu (Steven Adams)\\n...</td>\n",
       "    </tr>\n",
       "    <tr>\n",
       "      <th>7530</th>\n",
       "      <td>C://Users//hp-pc//Documents//Celebal Work//20n...</td>\n",
       "      <td>misc.forsale</td>\n",
       "      <td>From: jtobias@cs.tamu.edu (Jason T Tobias)\\nSu...</td>\n",
       "    </tr>\n",
       "    <tr>\n",
       "      <th>7531</th>\n",
       "      <td>C://Users//hp-pc//Documents//Celebal Work//20n...</td>\n",
       "      <td>rec.autos</td>\n",
       "      <td>From: jgoss@gaia.torolab.ibm.com (Jeff Goss)\\n...</td>\n",
       "    </tr>\n",
       "  </tbody>\n",
       "</table>\n",
       "<p>7532 rows × 3 columns</p>\n",
       "</div>"
      ],
      "text/plain": [
       "                                               filename  \\\n",
       "0     C://Users//hp-pc//Documents//Celebal Work//20n...   \n",
       "1     C://Users//hp-pc//Documents//Celebal Work//20n...   \n",
       "2     C://Users//hp-pc//Documents//Celebal Work//20n...   \n",
       "3     C://Users//hp-pc//Documents//Celebal Work//20n...   \n",
       "4     C://Users//hp-pc//Documents//Celebal Work//20n...   \n",
       "...                                                 ...   \n",
       "7527  C://Users//hp-pc//Documents//Celebal Work//20n...   \n",
       "7528  C://Users//hp-pc//Documents//Celebal Work//20n...   \n",
       "7529  C://Users//hp-pc//Documents//Celebal Work//20n...   \n",
       "7530  C://Users//hp-pc//Documents//Celebal Work//20n...   \n",
       "7531  C://Users//hp-pc//Documents//Celebal Work//20n...   \n",
       "\n",
       "                   category                                               news  \n",
       "0          rec.sport.hockey  From: stimpy@dev-null.phys.psu.edu (Gregory Na...  \n",
       "1        talk.politics.guns  From: kennejs@a.cs.okstate.edu (KENNEDY JAMES ...  \n",
       "2                 sci.space  From: perky@acs.bu.edu (Melissa Sherrin)\\nSubj...  \n",
       "3        talk.politics.misc  From: evansmp@uhura.aston.ac.uk (Mark Evans)\\n...  \n",
       "4            comp.windows.x  From: sxs@extol.Convergent.Com (S. Sridhar)\\nS...  \n",
       "...                     ...                                                ...  \n",
       "7527        sci.electronics  From: fennell@well.sf.ca.us (Michael Daniel Fe...  \n",
       "7528        rec.motorcycles  From: tony@morgan.demon.co.uk (Tony Kidson)\\nS...  \n",
       "7529  comp.sys.mac.hardware  From: sadams@eis.calstate.edu (Steven Adams)\\n...  \n",
       "7530           misc.forsale  From: jtobias@cs.tamu.edu (Jason T Tobias)\\nSu...  \n",
       "7531              rec.autos  From: jgoss@gaia.torolab.ibm.com (Jeff Goss)\\n...  \n",
       "\n",
       "[7532 rows x 3 columns]"
      ]
     },
     "execution_count": 11,
     "metadata": {},
     "output_type": "execute_result"
    }
   ],
   "source": [
    "data"
   ]
  },
  {
   "cell_type": "code",
   "execution_count": 12,
   "id": "mysterious-press",
   "metadata": {},
   "outputs": [],
   "source": [
    "test_posts = data['news'][:]\n",
    "test_tags = data['category'][:]\n",
    "test_files_names = data['filename'][:]"
   ]
  },
  {
   "cell_type": "code",
   "execution_count": 13,
   "id": "recognized-collect",
   "metadata": {},
   "outputs": [],
   "source": [
    "x_test = tokenizer.texts_to_matrix(test_posts, mode='tfidf')"
   ]
  },
  {
   "cell_type": "code",
   "execution_count": 14,
   "id": "orange-classroom",
   "metadata": {},
   "outputs": [
    {
     "data": {
      "text/plain": [
       "(7532, 15000)"
      ]
     },
     "execution_count": 14,
     "metadata": {},
     "output_type": "execute_result"
    }
   ],
   "source": [
    "x_test.shape"
   ]
  },
  {
   "cell_type": "code",
   "execution_count": 15,
   "id": "greatest-campus",
   "metadata": {},
   "outputs": [
    {
     "data": {
      "text/plain": [
       "(7532,)"
      ]
     },
     "execution_count": 15,
     "metadata": {},
     "output_type": "execute_result"
    }
   ],
   "source": [
    "test_tags.shape"
   ]
  },
  {
   "cell_type": "code",
   "execution_count": 16,
   "id": "positive-development",
   "metadata": {},
   "outputs": [
    {
     "name": "stdout",
     "output_type": "stream",
     "text": [
      "7532\n"
     ]
    }
   ],
   "source": [
    "print(len(test_tags))"
   ]
  },
  {
   "cell_type": "markdown",
   "id": "honey-following",
   "metadata": {},
   "source": [
    "# Topics/Labels"
   ]
  },
  {
   "cell_type": "code",
   "execution_count": 17,
   "id": "prospective-sweden",
   "metadata": {},
   "outputs": [],
   "source": [
    "labels = np.array(['alt.atheism', 'comp.graphics', 'comp.os.ms-windows.misc',\n",
    " 'comp.sys.ibm.pc.hardware', 'comp.sys.mac.hardware', 'comp.windows.x',\n",
    " 'misc.forsale', 'rec.autos', 'rec.motorcycles', 'rec.sport.baseball',\n",
    " 'rec.sport.hockey', 'sci.crypt', 'sci.electronics', 'sci.med', 'sci.space',\n",
    " 'soc.religion.christian', 'talk.politics.guns', 'talk.politics.mideast',\n",
    " 'talk.politics.misc', 'talk.religion.misc'])"
   ]
  },
  {
   "cell_type": "code",
   "execution_count": 18,
   "id": "f62da043",
   "metadata": {},
   "outputs": [
    {
     "name": "stdout",
     "output_type": "stream",
     "text": [
      "Test Accuracy: 0.8110727562400425\n"
     ]
    }
   ],
   "source": [
    "prediction = model.predict(np.array(x_test))\n",
    "y_pred = np.argmax(prediction, axis=1)\n",
    "acc = (labels[y_pred]==test_tags).mean()\n",
    "print(\"Test Accuracy:\", acc)"
   ]
  },
  {
   "cell_type": "markdown",
   "id": "distinct-lounge",
   "metadata": {},
   "source": [
    "# Test Accuracy = 81.12 %"
   ]
  },
  {
   "cell_type": "code",
   "execution_count": 19,
   "id": "3e00bf2b",
   "metadata": {
    "scrolled": true
   },
   "outputs": [],
   "source": [
    "from sklearn.metrics import confusion_matrix\n",
    "import matplotlib.pyplot as plt\n",
    "import seaborn as sns\n",
    "\n",
    "cm = confusion_matrix(test_tags, labels[y_pred])"
   ]
  },
  {
   "cell_type": "markdown",
   "id": "competent-participant",
   "metadata": {},
   "source": [
    "# Confusion Matrix"
   ]
  },
  {
   "cell_type": "code",
   "execution_count": 20,
   "id": "6f6f71fc",
   "metadata": {},
   "outputs": [
    {
     "data": {
      "text/plain": [
       "<AxesSubplot:>"
      ]
     },
     "execution_count": 20,
     "metadata": {},
     "output_type": "execute_result"
    },
    {
     "data": {
      "image/png": "[encoded data removed]",
      "text/plain": [
       "<Figure size 1440x1440 with 2 Axes>"
      ]
     },
     "metadata": {
      "needs_background": "light"
     },
     "output_type": "display_data"
    }
   ],
   "source": [
    "plt.figure(figsize=(20, 20))\n",
    "sns.heatmap(cm, annot=True, cmap='Blues')"
   ]
  },
  {
   "cell_type": "markdown",
   "id": "great-lewis",
   "metadata": {},
   "source": [
    "# Testing Model on random paragraphs from wikipedia with same topics/labels as used on training data"
   ]
  },
  {
   "cell_type": "code",
   "execution_count": 21,
   "id": "outer-genius",
   "metadata": {
    "scrolled": false
   },
   "outputs": [
    {
     "name": "stdout",
     "output_type": "stream",
     "text": [
      "╒════════════════╤════════════════════════╕\n",
      "│ Actual Label   │ Predicted Label        │\n",
      "╞════════════════╪════════════════════════╡\n",
      "│ Christianity   │ soc.religion.christian │\n",
      "├────────────────┼────────────────────────┤\n",
      "│ Graphics       │ comp.graphics          │\n",
      "╘════════════════╧════════════════════════╛\n"
     ]
    }
   ],
   "source": [
    "# source: https://en.wikipedia.org/wiki/History_of_Christianity  \n",
    "paragraph_1 = '''The history of Christianity concerns the Christian religion, Christian countries,\\ \n",
    "    and the Church with its various denominations, from the 1st century to the present.\\ \n",
    "    Christianity originated with the ministry of Jesus, a Jewish teacher and healer who \\\n",
    "    proclaimed the imminent kingdom of God and was crucified c. AD 30–33 in Jerusalem in \\\n",
    "    the Roman province of Judea. His followers believe that, according to the Gospels, he \\\n",
    "    was the Son of God and that he died for the forgiveness of sins and was raised from the\\\n",
    "    dead and exalted by God, and will return soon at the inception of God's kingdom.'''\n",
    "# source: https://en.wikipedia.org/wiki/Graphics\n",
    "paragraph_2 = '''Graphics (from Greek γραφικός graphikos, 'belonging to drawing') are\\\n",
    "               visual images or designs on some surface, such as a wall, canvas, screen,\\\n",
    "               paper, or stone to inform, illustrate, or entertain. In contemporary usage,\\\n",
    "               it includes a pictorial representation of data, as in c manufacture, in\\ \n",
    "               typesetting and the graphic arts, and in educational and recreational software.\\\n",
    "               Images that are generated by a computer are called computer graphics.''' \n",
    "x_data = []\n",
    "x_data.append(paragraph_1)\n",
    "x_data.append(paragraph_2)\n",
    "actual_label = ['Christianity','Graphics']\n",
    "x_data_series = pd.Series(x_data)\n",
    "x_tokenized = tokenizer.texts_to_matrix(x_data_series, mode='tfidf')\n",
    "i=0\n",
    "from tabulate import tabulate\n",
    "list1 =[]\n",
    "for x_t in x_tokenized:\n",
    "    prediction = model.predict(np.array([x_t]))\n",
    "    predicted_label = labels[np.argmax(prediction[0])]\n",
    "    list1.append([actual_label[i],predicted_label])\n",
    "    i += 1\n",
    "print(tabulate(list1, headers=['Actual Label', 'Predicted Label'],tablefmt='fancy_grid'))  "
   ]
  }
 ],
 "metadata": {
  "kernelspec": {
   "display_name": "Python 3",
   "language": "python",
   "name": "python3"
  },
  "language_info": {
   "codemirror_mode": {
    "name": "ipython",
    "version": 3
   },
   "file_extension": ".py",
   "mimetype": "text/x-python",
   "name": "python",
   "nbconvert_exporter": "python",
   "pygments_lexer": "ipython3",
   "version": "3.6.8"
  }
 },
 "nbformat": 4,
 "nbformat_minor": 5
}
